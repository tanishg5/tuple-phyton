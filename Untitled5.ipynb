{
 "cells": [
  {
   "cell_type": "code",
   "execution_count": 5,
   "id": "315d02ef",
   "metadata": {},
   "outputs": [
    {
     "name": "stdout",
     "output_type": "stream",
     "text": [
      "<class 'tuple'> (1, 2, 3, 4, 5, 'cp is love')\n"
     ]
    }
   ],
   "source": [
    "tup = 1,2,3,4,5,\"cp is love\"  #tuple cant be change unlike a list  and tuple is always enclosed by the round brackets\n",
    "print(type(tup),tup)          #tuples are immutable"
   ]
  },
  {
   "cell_type": "code",
   "execution_count": 7,
   "id": "e92d9c2c",
   "metadata": {},
   "outputs": [
    {
     "name": "stdout",
     "output_type": "stream",
     "text": [
      "cp is love\n"
     ]
    }
   ],
   "source": [
    "print(tup[0])"
   ]
  },
  {
   "cell_type": "code",
   "execution_count": 9,
   "id": "f213d804",
   "metadata": {},
   "outputs": [
    {
     "name": "stdout",
     "output_type": "stream",
     "text": [
      "6\n",
      "cp is love\n"
     ]
    }
   ],
   "source": [
    "print(len(tup))  # length of tuple is 6 now 6 -1 = 5 and at 5 index cp is love present and it will get print\n",
    "print(tup[-1])  "
   ]
  },
  {
   "cell_type": "code",
   "execution_count": 10,
   "id": "a79fe1b2",
   "metadata": {},
   "outputs": [
    {
     "name": "stdout",
     "output_type": "stream",
     "text": [
      "yes cp is true love of tanishq\n"
     ]
    }
   ],
   "source": [
    "if \"cp is love\" in tup:\n",
    "    print(\"yes cp is true love of tanishq\")"
   ]
  },
  {
   "cell_type": "code",
   "execution_count": 14,
   "id": "5c7c44c9",
   "metadata": {},
   "outputs": [
    {
     "data": {
      "text/plain": [
       "(2, 3, 4)"
      ]
     },
     "execution_count": 14,
     "metadata": {},
     "output_type": "execute_result"
    }
   ],
   "source": [
    "tup2 = tup[1:4]\n",
    "tup2"
   ]
  },
  {
   "cell_type": "code",
   "execution_count": 15,
   "id": "50ff03d8",
   "metadata": {},
   "outputs": [
    {
     "name": "stdout",
     "output_type": "stream",
     "text": [
      "(1, 2, 3, 4, 5)\n"
     ]
    }
   ],
   "source": [
    "print(tup[:5])   #it will print the numbers from index 0 to 5 if u leave the left hand side of the ratio blank by default it will start from 0"
   ]
  },
  {
   "cell_type": "code",
   "execution_count": 16,
   "id": "05c93cdb",
   "metadata": {},
   "outputs": [
    {
     "name": "stdout",
     "output_type": "stream",
     "text": [
      "(2, 3, 4, 5, 'cp is love')\n"
     ]
    }
   ],
   "source": [
    "print(tup[1:])  # it will print from index 1 to last index if u leave left hand side blank it will be by default length of the tuple"
   ]
  },
  {
   "cell_type": "code",
   "execution_count": 17,
   "id": "e714439b",
   "metadata": {},
   "outputs": [
    {
     "name": "stdout",
     "output_type": "stream",
     "text": [
      "(2, 4)\n"
     ]
    }
   ],
   "source": [
    "print(tup[1:5:2]) # it will print from index 1 to 5 by the gap of 2 \\\\ after printing each element there will be +2 increment"
   ]
  },
  {
   "cell_type": "code",
   "execution_count": 25,
   "id": "71db380b",
   "metadata": {},
   "outputs": [
    {
     "name": "stdout",
     "output_type": "stream",
     "text": [
      "(2, 3, 4, 5, 'cp is love')\n",
      "(4, 5)\n"
     ]
    }
   ],
   "source": [
    "print(tup[1:5])\n",
    "print(tup[-3:-1])  #it will print from index 3 to index 6 remeber it will print till only index 5 \n",
    "#so whenever we have to print till which last index always take last index + 1\n",
    "#whenever u encounter a '-'number in this u should do length of tuple '-' that number "
   ]
  },
  {
   "cell_type": "code",
   "execution_count": null,
   "id": "c21e16ba",
   "metadata": {},
   "outputs": [],
   "source": []
  }
 ],
 "metadata": {
  "kernelspec": {
   "display_name": "Python 3 (ipykernel)",
   "language": "python",
   "name": "python3"
  },
  "language_info": {
   "codemirror_mode": {
    "name": "ipython",
    "version": 3
   },
   "file_extension": ".py",
   "mimetype": "text/x-python",
   "name": "python",
   "nbconvert_exporter": "python",
   "pygments_lexer": "ipython3",
   "version": "3.9.13"
  }
 },
 "nbformat": 4,
 "nbformat_minor": 5
}
